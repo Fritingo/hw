{
 "cells": [
  {
   "cell_type": "code",
   "execution_count": 1,
   "metadata": {},
   "outputs": [],
   "source": [
    "from numba import vectorize, float32, njit,jit,vectorize\n",
    "import numpy as np\n",
    "import time\n",
    "\n",
    "x = np.arange(100).reshape(10, 10)\n"
   ]
  },
  {
   "cell_type": "code",
   "execution_count": 118,
   "metadata": {},
   "outputs": [],
   "source": [
    "test_np = np.ones((5000,5000),np.float32)\n",
    "test_py_orignal = test_np.tolist()\n"
   ]
  },
  {
   "cell_type": "code",
   "execution_count": 119,
   "metadata": {},
   "outputs": [
    {
     "name": "stdout",
     "output_type": "stream",
     "text": [
      "numpy use dot time:  0.44152355194091797\n"
     ]
    }
   ],
   "source": [
    "# numpy\n",
    "start = time.time()\n",
    "np_test = np.dot(test_np ,test_np)\n",
    "\n",
    "print('numpy use dot time: ',time.time()-start)"
   ]
  },
  {
   "cell_type": "code",
   "execution_count": 120,
   "metadata": {},
   "outputs": [
    {
     "name": "stdout",
     "output_type": "stream",
     "text": [
      "numpy use @ time:  0.4531395435333252\n"
     ]
    }
   ],
   "source": [
    "# numpy\n",
    "start = time.time()\n",
    "np_test = test_np @ test_np\n",
    "\n",
    "print('numpy use @ time: ',time.time()-start)"
   ]
  },
  {
   "cell_type": "code",
   "execution_count": 112,
   "metadata": {},
   "outputs": [
    {
     "name": "stdout",
     "output_type": "stream",
     "text": [
      "numpy use numba @ time:  0.436417818069458\n"
     ]
    }
   ],
   "source": [
    "#numba\n",
    "#@vectorize([float32(float32,float32)])\n",
    "# @njit(nopython=True)\n",
    "@njit\n",
    "def test_numba(a,b):\n",
    "    return a @ b\n",
    "\n",
    "start = time.time()\n",
    "numba_test = test_numba(test_np,test_np)\n",
    "print('numpy use numba @ time: ',time.time()-start)"
   ]
  },
  {
   "cell_type": "code",
   "execution_count": 6,
   "metadata": {},
   "outputs": [],
   "source": [
    "@njit\n",
    "def test(a,b): # all (5000,5000)\n",
    "    temp = a.copy()\n",
    "    for row in range(5000):\n",
    "        for col in range(5000):\n",
    "            temp[row][col] = sum([a[row][i]*b[i][col] for i in range(5000)])\n",
    "    return temp"
   ]
  },
  {
   "cell_type": "code",
   "execution_count": 8,
   "metadata": {},
   "outputs": [
    {
     "name": "stdout",
     "output_type": "stream",
     "text": [
      "numba use time:  363.20630049705505\n"
     ]
    }
   ],
   "source": [
    "#numba compilation\n",
    "start = time.time()\n",
    " #(5000,5000)(5000,5000) size is (5000,5000)\n",
    "\n",
    "test(test_np,test_np)\n",
    "\n",
    "print('numba use time: ',time.time()-start)"
   ]
  },
  {
   "cell_type": "code",
   "execution_count": 9,
   "metadata": {},
   "outputs": [
    {
     "name": "stdout",
     "output_type": "stream",
     "text": [
      "python list use time:  19547.127691984177\n"
     ]
    }
   ],
   "source": [
    "# python orignal\n",
    "start = time.time()\n",
    " #(5000,5000)(5000,5000) size is (5000,5000)\n",
    "\n",
    "\n",
    "temp = test_py_orignal.copy()\n",
    "for row in range(5000):\n",
    "    for col in range(5000):\n",
    "        temp[row][col] = sum([test_py_orignal[row][i]*test_py_orignal[i][col] for i in range(5000)])\n",
    "\n",
    "\n",
    "print('python list use time: ',time.time()-start)"
   ]
  }
 ],
 "metadata": {
  "interpreter": {
   "hash": "ff0d010d4405e71a71a972952baf71745236e6e19c89ce1ddad7fe3513688044"
  },
  "kernelspec": {
   "display_name": "Python 3.8.12 64-bit ('hw': conda)",
   "language": "python",
   "name": "python3"
  },
  "language_info": {
   "codemirror_mode": {
    "name": "ipython",
    "version": 3
   },
   "file_extension": ".py",
   "mimetype": "text/x-python",
   "name": "python",
   "nbconvert_exporter": "python",
   "pygments_lexer": "ipython3",
   "version": "3.8.12"
  },
  "orig_nbformat": 4
 },
 "nbformat": 4,
 "nbformat_minor": 2
}
